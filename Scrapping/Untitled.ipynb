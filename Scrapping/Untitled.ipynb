{
 "cells": [
  {
   "cell_type": "code",
   "execution_count": 1,
   "metadata": {
    "collapsed": true
   },
   "outputs": [],
   "source": [
    "import pandas as pd\n",
    "from ast import literal_eval\n",
    "import numpy as np"
   ]
  },
  {
   "cell_type": "code",
   "execution_count": 10,
   "metadata": {
    "collapsed": false
   },
   "outputs": [
    {
     "data": {
      "text/plain": [
       "0                 2013-01-03\n",
       "1                 2013-01-03\n",
       "2                 2013-01-03\n",
       "3                 2013-01-03\n",
       "4                 2013-01-03\n",
       "5                 2013-01-03\n",
       "6                 2013-01-03\n",
       "7                 2013-01-04\n",
       "8                 2013-01-04\n",
       "9                 2013-01-04\n",
       "10                2013-01-04\n",
       "11                2013-01-04\n",
       "12                2013-01-04\n",
       "13                2013-01-04\n",
       "14                2013-01-04\n",
       "15                2013-01-04\n",
       "16                2013-01-04\n",
       "17                2013-01-04\n",
       "18                2013-01-04\n",
       "19                2013-01-04\n",
       "20                2013-01-04\n",
       "21                2013-01-05\n",
       "22                2013-01-05\n",
       "23                2013-01-05\n",
       "24                2013-01-05\n",
       "25                2013-01-05\n",
       "26                2013-01-05\n",
       "27                2013-01-05\n",
       "28                2013-01-05\n",
       "29                2013-01-05\n",
       "                ...         \n",
       "42878      05 November 2016 \n",
       "42879        13 August 2016 \n",
       "42880      21 November 2014 \n",
       "42881         13 March 2008 \n",
       "42882      13 December 2014 \n",
       "42883      07 December 2014 \n",
       "42884         25 April 2010 \n",
       "42885      22 November 2009 \n",
       "42886     24 September 2009 \n",
       "42887       30 January 2009 \n",
       "42888         18 April 2008 \n",
       "42889       30 October 2015 \n",
       "42890       16 October 2015 \n",
       "42891         25 April 2015 \n",
       "42892         28 March 2015 \n",
       "42893         14 March 2015 \n",
       "42894       24 January 2015 \n",
       "42895      13 December 2014 \n",
       "42896      14 December 2014 \n",
       "42897      07 February 2015 \n",
       "42898      06 February 2015 \n",
       "42899       31 January 2015 \n",
       "42900       30 January 2015 \n",
       "42901       29 January 2015 \n",
       "42902      27 December 2014 \n",
       "42903      07 February 2015 \n",
       "42904      18 November 2014 \n",
       "42905       23 January 2015 \n",
       "42906       21 January 2015 \n",
       "42907       17 January 2015 \n",
       "Name: date, dtype: object"
      ]
     },
     "execution_count": 10,
     "metadata": {},
     "output_type": "execute_result"
    }
   ],
   "source": [
    "DF = pd.read_csv(\"FullDF_without_GPS.csv\")\n",
    "DF.date"
   ]
  },
  {
   "cell_type": "code",
   "execution_count": null,
   "metadata": {
    "collapsed": false
   },
   "outputs": [],
   "source": [
    "def correctMalformedLineups(DF):\n",
    "    i = 0\n",
    "    for id, row in DF.iterrows():\n",
    "        lineup = []\n",
    "        try:\n",
    "            lineup = literal_eval(row[\"artists\"])\n",
    "        except:\n",
    "            #print(\"Malformed artists :\"+str(row[\"artists\"]))\n",
    "            artists = str(row[\"artists\"])\n",
    "            artists = artists.replace(\"[\",\"\").replace(\"]\",\"\")\n",
    "            artists_list = artists.split(\",\")\n",
    "            i+=1\n",
    "            new_lineup = []\n",
    "            for a in artists_list:\n",
    "                a = a.title()\n",
    "                new_lineup.append(a.strip())\n",
    "            DF.loc[id,\"artists\"] = str(new_lineup)\n",
    "\n",
    "    print(\"Malformed : \"+str(i))\n",
    "    return DF"
   ]
  },
  {
   "cell_type": "code",
   "execution_count": null,
   "metadata": {
    "collapsed": false
   },
   "outputs": [],
   "source": [
    "DF = correctMalformedLineups(DF)"
   ]
  },
  {
   "cell_type": "code",
   "execution_count": null,
   "metadata": {
    "collapsed": false
   },
   "outputs": [],
   "source": [
    "correctMalformedLineups(DF)"
   ]
  }
 ],
 "metadata": {
  "anaconda-cloud": {},
  "kernelspec": {
   "display_name": "Python [Root]",
   "language": "python",
   "name": "Python [Root]"
  },
  "language_info": {
   "codemirror_mode": {
    "name": "ipython",
    "version": 3
   },
   "file_extension": ".py",
   "mimetype": "text/x-python",
   "name": "python",
   "nbconvert_exporter": "python",
   "pygments_lexer": "ipython3",
   "version": "3.5.2"
  }
 },
 "nbformat": 4,
 "nbformat_minor": 0
}
